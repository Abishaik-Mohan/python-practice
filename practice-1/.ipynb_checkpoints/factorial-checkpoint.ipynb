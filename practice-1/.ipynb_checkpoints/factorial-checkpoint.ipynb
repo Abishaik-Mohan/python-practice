{
 "cells": [
  {
   "cell_type": "markdown",
   "metadata": {},
   "source": [
    "# Problem 1\n",
    "\n",
    "### Write a program to compute the factorial of a given number using two methods, loops & lambda function. \n",
    "\n",
    "### Both the methods should be present in a single file and the script should produce two outputs using both the methods.\n",
    "\n",
    "# Sample Outputs\n",
    "\n",
    "### 1. python my_file.py 5\n",
    "### Factorial of 5 using Loops: 120\n",
    "### Factorial of 5 using Lambda: 120\n",
    "\n",
    "### 2. python my_file.py 10\n",
    "### Factorial of 10 using Loops: 3628800\n",
    "### Factorial of 10 using Lambda: 3628800"
   ]
  },
  {
   "cell_type": "markdown",
   "metadata": {},
   "source": []
  },
  {
   "cell_type": "code",
   "execution_count": null,
   "metadata": {},
   "outputs": [],
   "source": []
  }
 ],
 "metadata": {
  "kernelspec": {
   "display_name": "Python 3",
   "language": "python",
   "name": "python3"
  },
  "language_info": {
   "codemirror_mode": {
    "name": "ipython",
    "version": 3
   },
   "file_extension": ".py",
   "mimetype": "text/x-python",
   "name": "python",
   "nbconvert_exporter": "python",
   "pygments_lexer": "ipython3",
   "version": "3.8.3"
  }
 },
 "nbformat": 4,
 "nbformat_minor": 4
}
